{
 "cells": [
  {
   "cell_type": "code",
   "execution_count": 3,
   "metadata": {
    "collapsed": false
   },
   "outputs": [
    {
     "data": {
      "text/html": [
       "<div class=\"entities\">When <mark data-entity=\"person\">Sebastian Thrun</mark> \n",
       "started working on self-driving cars at <mark data-entity=\"org\">Google</mark> in \n",
       "<mark data-entity=\"date\">2007</mark>, few people outside of the company took him seriously.<br>\n",
       "<br>“I can tell you very senior CEOs of major American car companies would shake my hand and turn away \n",
       "because I wasn’t worth talking to,” said <mark data-entity=\"person\">Thrun</mark>, now the co-founder\n",
       "and CEO of online higher education startup <mark data-entity=\"org\">Udacity</mark>, in an interview \n",
       "with <mark data-entity=\"person\">Recode</mark> <mark data-entity=\"date\">earlier this week</mark>.</div>\n"
      ],
      "text/plain": [
       "<IPython.core.display.HTML object>"
      ]
     },
     "execution_count": 3,
     "metadata": {},
     "output_type": "execute_result"
    }
   ],
   "source": [
    "from IPython.core.display import HTML \n",
    "\n",
    "HTML(\"\"\"<div class=\"entities\">When <mark data-entity=\"person\">Sebastian Thrun</mark> \n",
    "started working on self-driving cars at <mark data-entity=\"org\">Google</mark> in \n",
    "<mark data-entity=\"date\">2007</mark>, few people outside of the company took him seriously.<br>\n",
    "<br>“I can tell you very senior CEOs of major American car companies would shake my hand and turn away \n",
    "because I wasn’t worth talking to,” said <mark data-entity=\"person\">Thrun</mark>, now the co-founder\n",
    "and CEO of online higher education startup <mark data-entity=\"org\">Udacity</mark>, in an interview \n",
    "with <mark data-entity=\"person\">Recode</mark> <mark data-entity=\"date\">earlier this week</mark>.</div>\n",
    "\"\"\")\n"
   ]
  }
 ],
 "metadata": {
  "kernelspec": {
   "display_name": "Python 3",
   "language": "python",
   "name": "python3"
  },
  "language_info": {
   "codemirror_mode": {
    "name": "ipython",
    "version": 3
   },
   "file_extension": ".py",
   "mimetype": "text/x-python",
   "name": "python",
   "nbconvert_exporter": "python",
   "pygments_lexer": "ipython3",
   "version": "3.5.2"
  }
 },
 "nbformat": 4,
 "nbformat_minor": 1
}
